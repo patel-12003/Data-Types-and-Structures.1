{
  "nbformat": 4,
  "nbformat_minor": 0,
  "metadata": {
    "colab": {
      "provenance": []
    },
    "kernelspec": {
      "name": "python3",
      "display_name": "Python 3"
    },
    "language_info": {
      "name": "python"
    }
  },
  "cells": [
    {
      "cell_type": "markdown",
      "source": [
        "## Data Types and Structures\n"
      ],
      "metadata": {
        "id": "934OubICuXDJ"
      }
    },
    {
      "cell_type": "markdown",
      "source": [
        "# Q1 What are data structures, and why are they important?\n",
        "\"\"\"Ans:\n",
        "data structures is way of organizing and storing data. And it is important because it can be accessesd and manipulated efficiently. \"\"\"\n",
        "\n",
        "# Q2  Explain the difference between mutable and immutable data types with examples?\n",
        "\"\"\"Ans:\n",
        "-mutable data types can be changed after creation .\n",
        "eg; lists,sets,and dicionary are the mutable data types.\n",
        "-immutable data types cannot be changed after creation.\n",
        "eg; tuples,string,and integer are the immutable data types. \"\"\"\n",
        "\n",
        "# Q3 What are the main differences between lists and tuples in Python?\n",
        "\"\"\" Ans: In python the main difference between lists and tuples is lists are mutable and it is modified after creation, while tuples are immutable and cannot be modified after creation.\"\"\"\n",
        "\n",
        "# Q4  Describe how dictionaries store data?\n",
        "\"\"\"Ans:Dictionary is data structure that stores data as key value pair.\"\"\"\n",
        "\n",
        "# Q5 Why might you use a set instead of a list in Python?\n",
        "\"\"\"Ans: we use set instead of list in python because sets are unordered and unique collection of elements that does not allow duplicate elements.\"\"\"\n",
        "\n",
        "# Q6 What is a string in Python, and how is it different from a list?\n",
        "\"\"\"Ans: string is a sequence of character which represent and manipulate textual data,while list is an ordered collection of elements that can be of any data type.\"\"\"\n",
        "\n",
        "\n",
        "# Q7 How do tuples ensure data integrity in Python?\n",
        "\"\"\"Ans: tuples ensure immutability and it is ordered collection of elements also heterogeneous in nature.\"\"\"\n",
        "\n",
        "# Q8 What is a hash table, and how does it relate to dictionaries in Python?\n",
        "\"\"\"Ans: A hash table is a data structure that allows for efficient key-value pair storage.\"\"\"\n",
        "\n",
        "# Q9 Can lists contain different data types in Python?\n",
        "\"\"\"Ans: Yes, lists can contain any data types in python.\"\"\"\n",
        "\n",
        "# Q10 Explain why strings are immutable in Python?\n",
        "\"\"\"Ans: due to efficiency and performance string are immutable in python.\"\"\"\n",
        "\n",
        "# Q11 What advantages do dictionaries offer over lists for certain tasks?\n",
        "\"\"\"Ans: many advantages like assign values to their key, no indexing,Can Be Any Hashable Object,and unordered nature of dictionary.\"\"\"\n",
        "\n",
        "# Q12 Describe a scenario where using a tuple would be preferable over a list?\n",
        "\"\"\"Ans: A situation where we want proper user id  and that cannot be changed after creation.\"\"\"\n",
        "\n",
        "# Q13 How do sets handle duplicate values in Python?\n",
        "\"\"\"Ans: sets are unordered and unique collection of elements so it will convert duplicate values into unique values.\"\"\"\n",
        "\n",
        "# Q14 How does the “in” keyword work differently for lists and dictionaries?\n",
        "\"\"\"Ans: in keyword checks whether elements are there or not in lists and key in dictionary.\"\"\"\n",
        "\n",
        "# Q15 Can you modify the elements of a tuple? Explain why or why not?\n",
        "\"\"\"Ans: No,we cannot modify the elements of tuple because it is immutable.\"\"\"\n",
        "\n",
        "# Q16 What is a nested dictionary, and give an example of its use case?\n",
        "\"\"\"Ans: A nested dictionary is a dictionary in Python where the value associated with a key is another dictionary.\"\"\"\n",
        "\n",
        "# Q17 Describe the time complexity of accessing elements in a dictionary?\n",
        "\"\"\"Ans:\n",
        "\n",
        "# Q18 In what situations are lists preferred over dictionaries?\n",
        "\"\"\"Ans: when we to modify the variable and we want ordered output at that situation we use lists over dictionary.\"\"\"\n",
        "\n",
        "# Q19 Why are dictionaries considered unordered, and how does that affect data retrieval?\n",
        "\"\"\"Ans: because keys are unique and immutable.\"\"\"\n",
        "\n",
        "# Q20 Explain the difference between a list and a dictionary in terms of data retrieval?\n",
        "\"\"\"Ans:The key difference between a list and a dictionary in Python, in terms of data retrieval, lies in how they store and access data.\"\"\""
      ],
      "metadata": {
        "id": "vLJoY7bUuk3B"
      }
    },
    {
      "cell_type": "code",
      "execution_count": 1,
      "metadata": {
        "colab": {
          "base_uri": "https://localhost:8080/"
        },
        "id": "XBv4rwX7uRxC",
        "outputId": "6bcbe777-14fa-4d46-c2e4-8629de19b775"
      },
      "outputs": [
        {
          "output_type": "stream",
          "name": "stdout",
          "text": [
            "patel hetkumar alpeshbhai.\n"
          ]
        }
      ],
      "source": [
        "# Write a code to create a string with your name and print it\n",
        "name=\"patel hetkumar alpeshbhai.\"\n",
        "print(name)\n"
      ]
    },
    {
      "cell_type": "code",
      "source": [
        "#Write a code to find the length of the string \"Hello World\".\n",
        "a=\"Hello World\"\n",
        "len(a)"
      ],
      "metadata": {
        "colab": {
          "base_uri": "https://localhost:8080/"
        },
        "id": "Wrb1_yRW9F2r",
        "outputId": "f4ffe0f9-b784-47b4-cade-960015ff7eeb"
      },
      "execution_count": 2,
      "outputs": [
        {
          "output_type": "execute_result",
          "data": {
            "text/plain": [
              "11"
            ]
          },
          "metadata": {},
          "execution_count": 2
        }
      ]
    },
    {
      "cell_type": "code",
      "source": [
        "#Write a code to slice the first 3 characters from the string \"Python Programming\".\n",
        "b=\"Python Programming\"\n",
        "b[0:3]"
      ],
      "metadata": {
        "colab": {
          "base_uri": "https://localhost:8080/",
          "height": 35
        },
        "id": "vYFlIul99jTh",
        "outputId": "4ad307d7-670f-4ffc-ed49-dd5cf4f68f31"
      },
      "execution_count": 4,
      "outputs": [
        {
          "output_type": "execute_result",
          "data": {
            "text/plain": [
              "'Pyt'"
            ],
            "application/vnd.google.colaboratory.intrinsic+json": {
              "type": "string"
            }
          },
          "metadata": {},
          "execution_count": 4
        }
      ]
    },
    {
      "cell_type": "code",
      "source": [
        "#Write a code to convert the string \"hello\" to uppercase\n",
        "c=\"hello\"\n",
        "c.upper()"
      ],
      "metadata": {
        "colab": {
          "base_uri": "https://localhost:8080/",
          "height": 35
        },
        "id": "rv3By87l991w",
        "outputId": "f1fd8e73-2310-4ff8-b0f6-4648d381f572"
      },
      "execution_count": 5,
      "outputs": [
        {
          "output_type": "execute_result",
          "data": {
            "text/plain": [
              "'HELLO'"
            ],
            "application/vnd.google.colaboratory.intrinsic+json": {
              "type": "string"
            }
          },
          "metadata": {},
          "execution_count": 5
        }
      ]
    },
    {
      "cell_type": "code",
      "source": [
        "#Write a code to replace the word \"apple\" with \"orange\" in the string \"I like apple\"\n",
        "d=\"I like apple\"\n",
        "d.replace(\"apple\",\"orange\")"
      ],
      "metadata": {
        "colab": {
          "base_uri": "https://localhost:8080/",
          "height": 35
        },
        "id": "-DwWeTzp-Tyv",
        "outputId": "7ea0999e-4640-4b13-8c34-b20765ecb0c0"
      },
      "execution_count": 7,
      "outputs": [
        {
          "output_type": "execute_result",
          "data": {
            "text/plain": [
              "'I like orange'"
            ],
            "application/vnd.google.colaboratory.intrinsic+json": {
              "type": "string"
            }
          },
          "metadata": {},
          "execution_count": 7
        }
      ]
    },
    {
      "cell_type": "code",
      "source": [
        "#Write a code to create a list with numbers 1 to 5 and print it.\n",
        "e=[1,2,3,4,5]\n",
        "print(e)"
      ],
      "metadata": {
        "colab": {
          "base_uri": "https://localhost:8080/"
        },
        "id": "K1-SX5zl-zbX",
        "outputId": "f7ce12c1-ce8a-41cf-e3f7-86ac893ba980"
      },
      "execution_count": 10,
      "outputs": [
        {
          "output_type": "stream",
          "name": "stdout",
          "text": [
            "[1, 2, 3, 4, 5]\n"
          ]
        }
      ]
    },
    {
      "cell_type": "code",
      "source": [
        "#Write a code to append the number 10 to the list [1, 2, 3, 4]\n",
        "f=[1,2,3,4]\n",
        "f.append(10)\n",
        "f"
      ],
      "metadata": {
        "colab": {
          "base_uri": "https://localhost:8080/"
        },
        "id": "qUve9jtS_O8w",
        "outputId": "43e6d682-9c44-4010-9664-9292b3866210"
      },
      "execution_count": 12,
      "outputs": [
        {
          "output_type": "execute_result",
          "data": {
            "text/plain": [
              "[1, 2, 3, 4, 10]"
            ]
          },
          "metadata": {},
          "execution_count": 12
        }
      ]
    },
    {
      "cell_type": "code",
      "source": [
        "#Write a code to remove the number 3 from the list [1, 2, 3, 4, 5].\n",
        "g=[1,2,3,4,5]\n",
        "g.remove(3)\n",
        "g"
      ],
      "metadata": {
        "colab": {
          "base_uri": "https://localhost:8080/"
        },
        "id": "HAQ8jpMQ_-E3",
        "outputId": "accabd91-237a-45ae-89c4-c05b311f8e0b"
      },
      "execution_count": 15,
      "outputs": [
        {
          "output_type": "execute_result",
          "data": {
            "text/plain": [
              "[1, 2, 4, 5]"
            ]
          },
          "metadata": {},
          "execution_count": 15
        }
      ]
    },
    {
      "cell_type": "code",
      "source": [
        "#Write a code to access the second element in the list ['a', 'b', 'c', 'd'].\n",
        "h=['a','b','c','d']\n",
        "h[1]"
      ],
      "metadata": {
        "colab": {
          "base_uri": "https://localhost:8080/",
          "height": 35
        },
        "id": "Qb-OIoLCCd_t",
        "outputId": "64a0c4a1-d6d4-4d5f-9ca6-591e4e9dc003"
      },
      "execution_count": 16,
      "outputs": [
        {
          "output_type": "execute_result",
          "data": {
            "text/plain": [
              "'b'"
            ],
            "application/vnd.google.colaboratory.intrinsic+json": {
              "type": "string"
            }
          },
          "metadata": {},
          "execution_count": 16
        }
      ]
    },
    {
      "cell_type": "code",
      "source": [
        "#Write a code to reverse the list [10, 20, 30, 40, 50]\n",
        "i=[10, 20, 30, 40, 50]\n",
        "i.reverse()\n",
        "i"
      ],
      "metadata": {
        "colab": {
          "base_uri": "https://localhost:8080/"
        },
        "id": "FnFCPJUVDFm0",
        "outputId": "4f138133-ee8d-465f-b7f9-9aa2abedf8f2"
      },
      "execution_count": 18,
      "outputs": [
        {
          "output_type": "execute_result",
          "data": {
            "text/plain": [
              "[50, 40, 30, 20, 10]"
            ]
          },
          "metadata": {},
          "execution_count": 18
        }
      ]
    },
    {
      "cell_type": "code",
      "source": [
        "# Write a code to create a tuple with the elements 10, 20, 30 and print it.\n",
        "j=(10,20,30)\n",
        "print(j)"
      ],
      "metadata": {
        "colab": {
          "base_uri": "https://localhost:8080/"
        },
        "id": "oX3FHn1wDeMr",
        "outputId": "6a9e00ff-e364-4fc7-92a7-760441d64e7a"
      },
      "execution_count": 19,
      "outputs": [
        {
          "output_type": "stream",
          "name": "stdout",
          "text": [
            "(10, 20, 30)\n"
          ]
        }
      ]
    },
    {
      "cell_type": "code",
      "source": [
        "# Write a code to access the first element of the tuple ('apple', 'banana', 'cherry')\n",
        "k=('apple', 'banana', 'cherry')\n",
        "k[0]"
      ],
      "metadata": {
        "colab": {
          "base_uri": "https://localhost:8080/",
          "height": 35
        },
        "id": "79xRbOTWD0aL",
        "outputId": "7400a921-f538-423c-f462-826431c547b8"
      },
      "execution_count": 20,
      "outputs": [
        {
          "output_type": "execute_result",
          "data": {
            "text/plain": [
              "'apple'"
            ],
            "application/vnd.google.colaboratory.intrinsic+json": {
              "type": "string"
            }
          },
          "metadata": {},
          "execution_count": 20
        }
      ]
    },
    {
      "cell_type": "code",
      "source": [
        "#Write a code to count how many times the number 2 appears in the tuple (1, 2, 3, 2, 4, 2)\n",
        "l= (1, 2, 3, 2, 4, 2)\n",
        "l.count(2)"
      ],
      "metadata": {
        "colab": {
          "base_uri": "https://localhost:8080/"
        },
        "id": "_MC5LXTKEKir",
        "outputId": "0cb0a27b-e6e8-4009-cb66-54182819589f"
      },
      "execution_count": 21,
      "outputs": [
        {
          "output_type": "execute_result",
          "data": {
            "text/plain": [
              "3"
            ]
          },
          "metadata": {},
          "execution_count": 21
        }
      ]
    },
    {
      "cell_type": "code",
      "source": [
        "# Write a code to find the index of the element \"cat\" in the tuple ('dog', 'cat', 'rabbit')\n",
        "m=('dog', 'cat', 'rabbit')\n",
        "m.index(\"cat\")"
      ],
      "metadata": {
        "colab": {
          "base_uri": "https://localhost:8080/"
        },
        "id": "yNyV6UNOEaZz",
        "outputId": "7478fc84-fc46-439b-a4c6-fb82b31241f7"
      },
      "execution_count": 23,
      "outputs": [
        {
          "output_type": "execute_result",
          "data": {
            "text/plain": [
              "1"
            ]
          },
          "metadata": {},
          "execution_count": 23
        }
      ]
    },
    {
      "cell_type": "code",
      "source": [
        "# Write a code to check if the element \"banana\" is in the tuple ('apple', 'orange', 'banana')\n",
        "n= ('apple', 'orange', 'banana')\n",
        "\n",
        "if  \"banana\" in n:\n",
        "  print(\"yes\" )\n",
        "else:\n",
        "  print(\"no\")"
      ],
      "metadata": {
        "colab": {
          "base_uri": "https://localhost:8080/"
        },
        "id": "nW0XjY3_Em4T",
        "outputId": "eeedf6de-d736-4cb8-e38d-f94e4ed92e43"
      },
      "execution_count": 28,
      "outputs": [
        {
          "output_type": "stream",
          "name": "stdout",
          "text": [
            "yes\n"
          ]
        }
      ]
    },
    {
      "cell_type": "code",
      "source": [
        "# Write a code to create a set with the elements 1, 2, 3, 4, 5 and print it\n",
        "o={1,2,3,4,5}\n",
        "print(o)"
      ],
      "metadata": {
        "colab": {
          "base_uri": "https://localhost:8080/"
        },
        "id": "00sjMOpyE95L",
        "outputId": "d1649bc3-d926-4b37-ef4c-db239a16ea40"
      },
      "execution_count": 29,
      "outputs": [
        {
          "output_type": "stream",
          "name": "stdout",
          "text": [
            "{1, 2, 3, 4, 5}\n"
          ]
        }
      ]
    },
    {
      "cell_type": "code",
      "source": [
        "#Write a code to add the element 6 to the set {1, 2, 3, 4}\n",
        "p={1, 2, 3, 4}\n",
        "p.add(6)\n",
        "p"
      ],
      "metadata": {
        "colab": {
          "base_uri": "https://localhost:8080/"
        },
        "id": "ukAiLOTkGNZC",
        "outputId": "dfa5288e-a597-4ed0-e879-faf1161dea32"
      },
      "execution_count": 30,
      "outputs": [
        {
          "output_type": "execute_result",
          "data": {
            "text/plain": [
              "{1, 2, 3, 4, 6}"
            ]
          },
          "metadata": {},
          "execution_count": 30
        }
      ]
    },
    {
      "cell_type": "code",
      "source": [],
      "metadata": {
        "id": "AwSaD74hGiZ6"
      },
      "execution_count": null,
      "outputs": []
    }
  ]
}